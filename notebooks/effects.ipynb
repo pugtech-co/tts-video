{
 "cells": [
  {
   "attachments": {},
   "cell_type": "markdown",
   "metadata": {},
   "source": [
    "## This shows the basics of effects in video composition.  \n"
   ]
  },
  {
   "cell_type": "code",
   "execution_count": 3,
   "metadata": {},
   "outputs": [],
   "source": [
    "import sys\n",
    "sys.path.append('../') # so that we can import packages from parent folder\n",
    "\n",
    "from src.video_composition.video.static_background_image_component import StaticBackgroundImageComponent\n",
    "from src.video_composition.composer import VideoComposition\n",
    "from src.video_composition.video.text_component import TextComponent\n",
    "from src.video_composition.video.timed_text_component import TimedTextComponent\n",
    "from src.video_composition.audio.audio_component import AudioComponent\n",
    "from src.video_composition.audio.audio_file_component import AudioFileComponent\n",
    "from src.video_composition.combo.componenet_container import ComponentContainer\n",
    "from src.video_composition.combo.mp4_componenet import MP4Component\n",
    "from src.video_composition.video.effects.static_image_effect import StaticImageEffect\n",
    "from src.video_composition.combo.tts_componenet import TTSComponenet\n",
    "\n",
    "background_start_time = 0  \n",
    "background_duration = 10  \n",
    "effect_start = 1  \n",
    "effect_duration = 5\n",
    "\n",
    "# HD phone resolution\n",
    "# width = 1920\n",
    "# height = 1080\n",
    "\n",
    "width = 1024\n",
    "height = 1024\n",
    "\n",
    "fps = 30\n",
    "font = 70\n",
    "output_file = 'output/effects.mp4'\n",
    "image = './images/image-2.png'\n",
    "effect = './images/elvis-transparent.png'"
   ]
  },
  {
   "cell_type": "code",
   "execution_count": 4,
   "metadata": {},
   "outputs": [
    {
     "name": "stdout",
     "output_type": "stream",
     "text": [
      "Component: 0 - 300\n",
      "Duration: 10\n",
      "Component: 30 - 180\n",
      "Duration: 5\n"
     ]
    }
   ],
   "source": [
    "video_composition = VideoComposition(width=width, height=height, fps=fps)\n",
    "video_composition.add_component(StaticBackgroundImageComponent(image, width, height, fps, background_start_time, background_duration))\n",
    "video_composition.add_component(StaticImageEffect(effect, (100, 100), (200, 200), 0.5, width, height, fps, effect_start, effect_duration ))\n",
    "video_composition.create_video(output_file)"
   ]
  }
 ],
 "metadata": {
  "kernelspec": {
   "display_name": "tiktok--IX8dTYm",
   "language": "python",
   "name": "python3"
  },
  "language_info": {
   "codemirror_mode": {
    "name": "ipython",
    "version": 3
   },
   "file_extension": ".py",
   "mimetype": "text/x-python",
   "name": "python",
   "nbconvert_exporter": "python",
   "pygments_lexer": "ipython3",
   "version": "3.11.4"
  },
  "orig_nbformat": 4
 },
 "nbformat": 4,
 "nbformat_minor": 2
}
