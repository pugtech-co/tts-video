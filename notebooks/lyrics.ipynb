{
 "cells": [
  {
   "cell_type": "code",
   "execution_count": 2,
   "metadata": {},
   "outputs": [],
   "source": [
    "import sys\n",
    "sys.path.append('../') # so that we can import packages from parent folder\n",
    "%matplotlib inline\n",
    "\n",
    "from src.video_composition.composer import VideoComposition\n",
    "\n",
    "from src.video_composition.combo.tts_component import TTSComponent\n",
    "from src.video_composition.video.looping_mp4 import LoopingMP4"
   ]
  },
  {
   "cell_type": "code",
   "execution_count": 3,
   "metadata": {},
   "outputs": [
    {
     "name": "stdout",
     "output_type": "stream",
     "text": [
      " > Text splitted to sentences.\n",
      "[\"He talks about you in his sleep and there's nothing I can do to keep from crying when he calls your name, Jolene.\"]\n",
      " > Processing time: 1.8212759494781494\n",
      " > Real-time factor: 0.359745724218801\n",
      " > Text splitted to sentences.\n",
      "[\"He talks about you in his sleep and there's nothing I can do to keep from crying when he calls your name, Jolene.\"]\n",
      " > Processing time: 1.3980228900909424\n",
      " > Real-time factor: 0.2529408291199396\n",
      " > Text splitted to sentences.\n",
      "[\"And I can easily understand how you could easily take my man but you don't know what he means to me, Jolene.\"]\n",
      " > Processing time: 1.5595178604125977\n",
      " > Real-time factor: 0.27807097313767776\n",
      " > Text splitted to sentences.\n",
      "[\"And I can easily understand how you could easily take my man but you don't know what he means to me, Jolene.\"]\n",
      " > Processing time: 1.6032679080963135\n",
      " > Real-time factor: 0.25857268412466144\n",
      "Component: 0 - 351\n",
      "Duration: 11.727528344671203\n",
      "Running looping command for ./videos/road_loop_20s.mp4: ffmpeg -y -i ./videos/road_loop_20s.mp4 -vcodec libx264 -pix_fmt bgr24 /var/folders/7k/52l4j6s906q9s88m_c95kdkw0000gn/T/tmp1k5jdpix.avi\n"
     ]
    },
    {
     "name": "stderr",
     "output_type": "stream",
     "text": [
      "ffmpeg version 6.0 Copyright (c) 2000-2023 the FFmpeg developers\n",
      "  built with Apple clang version 14.0.3 (clang-1403.0.22.14.1)\n",
      "  configuration: --prefix=/opt/homebrew/Cellar/ffmpeg/6.0_1 --enable-shared --enable-pthreads --enable-version3 --cc=clang --host-cflags= --host-ldflags= --enable-ffplay --enable-gnutls --enable-gpl --enable-libaom --enable-libaribb24 --enable-libbluray --enable-libdav1d --enable-libmp3lame --enable-libopus --enable-librav1e --enable-librist --enable-librubberband --enable-libsnappy --enable-libsrt --enable-libsvtav1 --enable-libtesseract --enable-libtheora --enable-libvidstab --enable-libvmaf --enable-libvorbis --enable-libvpx --enable-libwebp --enable-libx264 --enable-libx265 --enable-libxml2 --enable-libxvid --enable-lzma --enable-libfontconfig --enable-libfreetype --enable-frei0r --enable-libass --enable-libopencore-amrnb --enable-libopencore-amrwb --enable-libopenjpeg --enable-libspeex --enable-libsoxr --enable-libzmq --enable-libzimg --disable-libjack --disable-indev=jack --enable-videotoolbox --enable-audiotoolbox --enable-neon\n",
      "  libavutil      58.  2.100 / 58.  2.100\n",
      "  libavcodec     60.  3.100 / 60.  3.100\n",
      "  libavformat    60.  3.100 / 60.  3.100\n",
      "  libavdevice    60.  1.100 / 60.  1.100\n",
      "  libavfilter     9.  3.100 /  9.  3.100\n",
      "  libswscale      7.  1.100 /  7.  1.100\n",
      "  libswresample   4. 10.100 /  4. 10.100\n",
      "  libpostproc    57.  1.100 / 57.  1.100\n",
      "Input #0, mov,mp4,m4a,3gp,3g2,mj2, from './videos/road_loop_20s.mp4':\n",
      "  Metadata:\n",
      "    major_brand     : isom\n",
      "    minor_version   : 512\n",
      "    compatible_brands: isomiso2avc1mp41\n",
      "    encoder         : Lavf58.29.100\n",
      "  Duration: 00:00:20.32, start: 0.000000, bitrate: 4475 kb/s\n",
      "  Stream #0:0[0x1](und): Video: h264 (High) (avc1 / 0x31637661), yuv420p(progressive), 1920x1080, 4473 kb/s, 25 fps, 25 tbr, 15360 tbn (default)\n",
      "    Metadata:\n",
      "      handler_name    : VideoHandler\n",
      "      vendor_id       : [0][0][0][0]\n",
      "Stream mapping:\n",
      "  Stream #0:0 -> #0:0 (h264 (native) -> h264 (libx264))\n",
      "Press [q] to stop, [?] for help\n",
      "Incompatible pixel format 'bgr24' for codec 'libx264', auto-selecting format 'yuv444p'\n",
      "[libx264 @ 0x129f05cd0] using cpu capabilities: ARMv8 NEON\n",
      "[libx264 @ 0x129f05cd0] profile High 4:4:4 Predictive, level 4.0, 4:4:4, 8-bit\n",
      "Output #0, avi, to '/var/folders/7k/52l4j6s906q9s88m_c95kdkw0000gn/T/tmp1k5jdpix.avi':\n",
      "  Metadata:\n",
      "    major_brand     : isom\n",
      "    minor_version   : 512\n",
      "    compatible_brands: isomiso2avc1mp41\n",
      "    ISFT            : Lavf60.3.100\n",
      "  Stream #0:0(und): Video: h264 (H264 / 0x34363248), yuv444p(tv, progressive), 1920x1080, q=2-31, 25 fps, 25 tbn (default)\n",
      "    Metadata:\n",
      "      handler_name    : VideoHandler\n",
      "      vendor_id       : [0][0][0][0]\n",
      "      encoder         : Lavc60.3.100 libx264\n",
      "    Side data:\n",
      "      cpb: bitrate max/min/avg: 0/0/0 buffer size: 0 vbv_delay: N/A\n",
      "frame=  508 fps= 66 q=-1.0 Lsize=    4760kB time=00:00:20.20 bitrate=1930.3kbits/s speed=2.63x     \n",
      "video:4742kB audio:0kB subtitle:0kB other streams:0kB global headers:0kB muxing overhead: 0.373417%\n",
      "[libx264 @ 0x129f05cd0] frame I:3     Avg QP:17.78  size:268652\n",
      "[libx264 @ 0x129f05cd0] frame P:131   Avg QP:19.13  size: 26692\n",
      "[libx264 @ 0x129f05cd0] frame B:374   Avg QP:25.94  size:  1479\n",
      "[libx264 @ 0x129f05cd0] consecutive B-frames:  1.6%  0.4%  1.2% 96.9%\n",
      "[libx264 @ 0x129f05cd0] mb I  I16..4:  5.0% 35.8% 59.2%\n",
      "[libx264 @ 0x129f05cd0] mb P  I16..4:  0.4%  1.2%  0.3%  P16..4: 28.7%  9.0%  8.0%  0.0%  0.0%    skip:52.4%\n",
      "[libx264 @ 0x129f05cd0] mb B  I16..4:  0.0%  0.0%  0.0%  B16..8: 20.2%  0.2%  0.0%  direct: 0.0%  skip:79.5%  L0:33.3% L1:66.2% BI: 0.5%\n",
      "[libx264 @ 0x129f05cd0] 8x8 transform intra:49.0% inter:58.9%\n",
      "[libx264 @ 0x129f05cd0] coded y,u,v intra: 82.5% 38.0% 34.1% inter: 5.1% 2.1% 2.0%\n",
      "[libx264 @ 0x129f05cd0] i16 v,h,dc,p:  6% 65% 17% 12%\n",
      "[libx264 @ 0x129f05cd0] i8 v,h,dc,ddl,ddr,vr,hd,vl,hu:  9% 47% 16%  2%  4%  3%  8%  4%  7%\n",
      "[libx264 @ 0x129f05cd0] i4 v,h,dc,ddl,ddr,vr,hd,vl,hu: 10% 23%  9%  5% 14%  8% 16%  5% 10%\n",
      "[libx264 @ 0x129f05cd0] Weighted P-Frames: Y:0.0% UV:0.0%\n",
      "[libx264 @ 0x129f05cd0] ref P L0: 62.4%  8.0% 21.9%  7.7%\n",
      "[libx264 @ 0x129f05cd0] ref B L0: 90.8%  8.3%  0.9%\n",
      "[libx264 @ 0x129f05cd0] ref B L1: 90.8%  9.2%\n",
      "[libx264 @ 0x129f05cd0] kb/s:1911.80\n"
     ]
    },
    {
     "name": "stdout",
     "output_type": "stream",
     "text": [
      "Finished running ffmpeg command\n",
      "Video captured\n",
      "Reading frame 100\n",
      "Reading frame 200\n",
      "Reading frame 300\n",
      "Reading frame 400\n",
      "Reading frame 500\n",
      "Finished reading frames\n",
      "Video released\n",
      "Speed factor: 1\n",
      "Component: 0 - 351\n",
      "Duration: 11.727528344671203\n",
      "Running composer command: ffmpeg -y -i /var/folders/7k/52l4j6s906q9s88m_c95kdkw0000gn/T/tmpawcj4229.mp4 -i /var/folders/7k/52l4j6s906q9s88m_c95kdkw0000gn/T/tmp3iyjg8s8.wav -c:v copy -c:a aac -strict experimental -loglevel error output/jolene300.mp4\n"
     ]
    }
   ],
   "source": [
    "lyrics = \"He talks about you in his sleep and there's nothing I can do to keep from crying when he calls your name, Jolene. And I can easily understand how you could easily take my man but you don't know what he means to me, Jolene.\"\n",
    "clouds = './videos/road_loop_20s.mp4'\n",
    "output_file = \"output/jolene300.mp4\"\n",
    "\n",
    "tts = TTSComponent(lyrics, color=(200, 10, 0), speed=0.75, speaker_name='p300')\n",
    "mp4 = LoopingMP4(clouds, fps=30, start=0, duration=tts.total_duration(), reverse_loop=True, speed_factor=1)\n",
    "\n",
    "video_composition = VideoComposition(width=mp4.width, height=mp4.height, fps=mp4.fps)\n",
    "video_composition.add_component(mp4)\n",
    "video_composition.add_component(tts)\n",
    "\n",
    "video_composition.create_video(output_file)"
   ]
  }
 ],
 "metadata": {
  "kernelspec": {
   "display_name": "tiktok--IX8dTYm",
   "language": "python",
   "name": "python3"
  },
  "language_info": {
   "codemirror_mode": {
    "name": "ipython",
    "version": 3
   },
   "file_extension": ".py",
   "mimetype": "text/x-python",
   "name": "python",
   "nbconvert_exporter": "python",
   "pygments_lexer": "ipython3",
   "version": "3.11.5"
  },
  "orig_nbformat": 4
 },
 "nbformat": 4,
 "nbformat_minor": 2
}
