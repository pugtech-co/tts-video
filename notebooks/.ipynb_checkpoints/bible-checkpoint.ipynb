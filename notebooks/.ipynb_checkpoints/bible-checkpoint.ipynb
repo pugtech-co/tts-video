{
 "cells": [
  {
   "attachments": {},
   "cell_type": "markdown",
   "metadata": {},
   "source": [
    "### Fromat of the generator\n",
    "1. English Bible verse + hebrew text\n",
    "2. List of videos to loop\n",
    "3. "
   ]
  },
  {
   "cell_type": "code",
   "execution_count": 4,
   "metadata": {},
   "outputs": [
    {
     "ename": "ModuleNotFoundError",
     "evalue": "No module named 'TTS'",
     "output_type": "error",
     "traceback": [
      "\u001b[0;31m---------------------------------------------------------------------------\u001b[0m",
      "\u001b[0;31mModuleNotFoundError\u001b[0m                       Traceback (most recent call last)",
      "Cell \u001b[0;32mIn[4], line 11\u001b[0m\n\u001b[1;32m      7\u001b[0m get_ipython()\u001b[38;5;241m.\u001b[39mrun_line_magic(\u001b[38;5;124m'\u001b[39m\u001b[38;5;124mmatplotlib\u001b[39m\u001b[38;5;124m'\u001b[39m, \u001b[38;5;124m'\u001b[39m\u001b[38;5;124minline\u001b[39m\u001b[38;5;124m'\u001b[39m)\n\u001b[1;32m      9\u001b[0m \u001b[38;5;28;01mfrom\u001b[39;00m \u001b[38;5;21;01msrc\u001b[39;00m\u001b[38;5;21;01m.\u001b[39;00m\u001b[38;5;21;01mvideo_composition\u001b[39;00m\u001b[38;5;21;01m.\u001b[39;00m\u001b[38;5;21;01mcomposer\u001b[39;00m \u001b[38;5;28;01mimport\u001b[39;00m VideoComposition\n\u001b[0;32m---> 11\u001b[0m \u001b[38;5;28;01mfrom\u001b[39;00m \u001b[38;5;21;01msrc\u001b[39;00m\u001b[38;5;21;01m.\u001b[39;00m\u001b[38;5;21;01mvideo_composition\u001b[39;00m\u001b[38;5;21;01m.\u001b[39;00m\u001b[38;5;21;01mcombo\u001b[39;00m\u001b[38;5;21;01m.\u001b[39;00m\u001b[38;5;21;01mtts_component\u001b[39;00m \u001b[38;5;28;01mimport\u001b[39;00m TTSComponent\n\u001b[1;32m     12\u001b[0m \u001b[38;5;28;01mfrom\u001b[39;00m \u001b[38;5;21;01msrc\u001b[39;00m\u001b[38;5;21;01m.\u001b[39;00m\u001b[38;5;21;01mvideo_composition\u001b[39;00m\u001b[38;5;21;01m.\u001b[39;00m\u001b[38;5;21;01maudio\u001b[39;00m\u001b[38;5;21;01m.\u001b[39;00m\u001b[38;5;21;01maudio_file_component\u001b[39;00m \u001b[38;5;28;01mimport\u001b[39;00m AudioFileComponent\n\u001b[1;32m     13\u001b[0m \u001b[38;5;28;01mfrom\u001b[39;00m \u001b[38;5;21;01msrc\u001b[39;00m\u001b[38;5;21;01m.\u001b[39;00m\u001b[38;5;21;01mvideo_composition\u001b[39;00m\u001b[38;5;21;01m.\u001b[39;00m\u001b[38;5;21;01mvideo\u001b[39;00m\u001b[38;5;21;01m.\u001b[39;00m\u001b[38;5;21;01mstatic_background_image_component\u001b[39;00m \u001b[38;5;28;01mimport\u001b[39;00m StaticBackgroundImageComponent\n",
      "File \u001b[0;32m~/Desktop/Programming/PugTech/tts-video/notebooks/../src/video_composition/combo/tts_component.py:4\u001b[0m\n\u001b[1;32m      2\u001b[0m \u001b[38;5;28;01mfrom\u001b[39;00m \u001b[38;5;21;01msrc\u001b[39;00m\u001b[38;5;21;01m.\u001b[39;00m\u001b[38;5;21;01mvideo_composition\u001b[39;00m\u001b[38;5;21;01m.\u001b[39;00m\u001b[38;5;21;01maudio\u001b[39;00m\u001b[38;5;21;01m.\u001b[39;00m\u001b[38;5;21;01maudio_component\u001b[39;00m \u001b[38;5;28;01mimport\u001b[39;00m AudioComponent\n\u001b[1;32m      3\u001b[0m \u001b[38;5;28;01mfrom\u001b[39;00m \u001b[38;5;21;01msrc\u001b[39;00m\u001b[38;5;21;01m.\u001b[39;00m\u001b[38;5;21;01mvideo_composition\u001b[39;00m\u001b[38;5;21;01m.\u001b[39;00m\u001b[38;5;21;01mvideo\u001b[39;00m\u001b[38;5;21;01m.\u001b[39;00m\u001b[38;5;21;01mtimed_text_component\u001b[39;00m \u001b[38;5;28;01mimport\u001b[39;00m TimedTextComponent\n\u001b[0;32m----> 4\u001b[0m \u001b[38;5;28;01mfrom\u001b[39;00m \u001b[38;5;21;01msrc\u001b[39;00m\u001b[38;5;21;01m.\u001b[39;00m\u001b[38;5;21;01mtts\u001b[39;00m \u001b[38;5;28;01mimport\u001b[39;00m TextToSpeech\n\u001b[1;32m      6\u001b[0m \u001b[38;5;66;03m# Sound from TTS is kinda soft, so amplify it by default. \u001b[39;00m\n\u001b[1;32m      7\u001b[0m AMPLIFICATION \u001b[38;5;241m=\u001b[39m \u001b[38;5;241m4\u001b[39m\n",
      "File \u001b[0;32m~/Desktop/Programming/PugTech/tts-video/notebooks/../src/tts.py:2\u001b[0m\n\u001b[1;32m      1\u001b[0m \u001b[38;5;28;01mfrom\u001b[39;00m \u001b[38;5;21;01mcollections\u001b[39;00m \u001b[38;5;28;01mimport\u001b[39;00m namedtuple\n\u001b[0;32m----> 2\u001b[0m \u001b[38;5;28;01mfrom\u001b[39;00m \u001b[38;5;21;01mTTS\u001b[39;00m\u001b[38;5;21;01m.\u001b[39;00m\u001b[38;5;21;01mutils\u001b[39;00m\u001b[38;5;21;01m.\u001b[39;00m\u001b[38;5;21;01msynthesizer\u001b[39;00m \u001b[38;5;28;01mimport\u001b[39;00m Synthesizer\n\u001b[1;32m      3\u001b[0m \u001b[38;5;28;01mfrom\u001b[39;00m \u001b[38;5;21;01mIPython\u001b[39;00m\u001b[38;5;21;01m.\u001b[39;00m\u001b[38;5;21;01mdisplay\u001b[39;00m \u001b[38;5;28;01mimport\u001b[39;00m Audio\n\u001b[1;32m      4\u001b[0m \u001b[38;5;28;01mimport\u001b[39;00m \u001b[38;5;21;01mnumpy\u001b[39;00m \u001b[38;5;28;01mas\u001b[39;00m \u001b[38;5;21;01mnp\u001b[39;00m\n",
      "\u001b[0;31mModuleNotFoundError\u001b[0m: No module named 'TTS'"
     ]
    }
   ],
   "source": [
    "import sys\n",
    "sys.path.append('../') # so that we can import packages from parent folder\n",
    "\n",
    "from src.tts import TextToSpeech\n",
    "from IPython.display import Audio\n",
    "import matplotlib.pyplot as plt\n",
    "%matplotlib inline\n",
    "\n",
    "from src.video_composition.composer import VideoComposition\n",
    "\n",
    "from src.video_composition.combo.tts_component import TTSComponent\n",
    "from src.video_composition.audio.audio_file_component import AudioFileComponent\n",
    "from src.video_composition.video.static_background_image_component import StaticBackgroundImageComponent\n",
    "from src.video_composition.video.looping_mp4 import LoopingMP4\n",
    "\n",
    "import json\n",
    "\n",
    "#4 seconds"
   ]
  },
  {
   "cell_type": "code",
   "execution_count": 2,
   "metadata": {},
   "outputs": [
    {
     "name": "stdout",
     "output_type": "stream",
     "text": [
      "Should you not fear me? declares the Lord. Should you not tremble in my presence? I made the sand a boundary for the sea, an everlasting barrier it cannot cross. The waves may roll, but they cannot prevail; they may roar, but they cannot cross it.\n",
      "\n",
      "הַאֹותִ֨י לֹא־תִירָ֜אוּ נְאֻם־יְהֹוָ֗ה אִ֤ם מִפָּנַי֙ לֹ֣א תָחִ֔ילוּ אֲשֶׁר־שַׂ֤מְתִּי חֹול֙ גְּב֣וּל לַיָּ֔ם חָק־עֹולָ֖ם וְלֹ֣א יַעַבְרֶ֑נְהוּ וַיִּֽתְגָּעֲשׁוּ֙ וְלֹ֣א יוּכָ֔לוּ וְהָמ֥וּ גַלָּ֖יו וְלֹ֥א יַעַבְרֻֽנְהוּ\n",
      "\n"
     ]
    }
   ],
   "source": [
    "verse = 'Should you not fear me? declares the Lord. Should you not tremble in my presence? I made the sand a boundary for the sea, an everlasting barrier it cannot cross. The waves may roll, but they cannot prevail; they may roar, but they cannot cross it.'\n",
    "hebrew = '''\n",
    "הַאֹותִ֨י לֹא־תִירָ֜אוּ נְאֻם־יְהֹוָ֗ה אִ֤ם מִפָּנַי֙ לֹ֣א תָחִ֔ילוּ אֲשֶׁר־שַׂ֤מְתִּי חֹול֙ גְּב֣וּל לַיָּ֔ם חָק־עֹולָ֖ם וְלֹ֣א יַעַבְרֶ֑נְהוּ וַיִּֽתְגָּעֲשׁוּ֙ וְלֹ֣א יוּכָ֔לוּ וְהָמ֥וּ גַלָּ֖יו וְלֹ֥א יַעַבְרֻֽנְהוּ\n",
    "'''\n",
    "location = 'Jeremiah 5:22'\n",
    "\n",
    "# a list of pairs of filenames and percentages\n",
    "transitionTimestamps = [('light.mp4', '40'), ('waves.mp4', '60')]\n",
    "\n",
    "print(verse)\n",
    "print(hebrew)"
   ]
  },
  {
   "cell_type": "code",
   "execution_count": 3,
   "metadata": {},
   "outputs": [
    {
     "name": "stdout",
     "output_type": "stream",
     "text": [
      " > Text splitted to sentences.\n",
      "['Should you not fear me?']\n",
      " > Processing time: 0.45452404022216797\n",
      " > Real-time factor: 0.2557741702454778\n",
      " > Text splitted to sentences.\n",
      "['declares the Lord.']\n",
      " > Processing time: 0.4022829532623291\n",
      " > Real-time factor: 0.21249375046556046\n",
      " > Text splitted to sentences.\n",
      "['Should you not tremble in my presence?']\n",
      " > Processing time: 0.5743060111999512\n",
      " > Real-time factor: 0.2077882572026602\n",
      " > Text splitted to sentences.\n",
      "['I made the sand a boundary for the sea, an everlasting barrier it cannot cross.']\n",
      " > Processing time: 1.1922941207885742\n",
      " > Real-time factor: 0.23126394584261137\n",
      " > Text splitted to sentences.\n",
      "['The waves may roll, but they cannot prevail; they may roar, but they cannot cross it.']\n",
      " > Processing time: 1.1300899982452393\n",
      " > Real-time factor: 0.23062420832692437\n",
      " > Text splitted to sentences.\n",
      "['Jeremiah 5:22']\n",
      " > Processing time: 0.49417614936828613\n",
      " > Real-time factor: 0.2045769017266955\n",
      "Component: 0 - 567\n",
      "Duration: 18.905396825396824\n"
     ]
    },
    {
     "name": "stderr",
     "output_type": "stream",
     "text": [
      "ffmpeg version 6.0 Copyright (c) 2000-2023 the FFmpeg developers\n",
      "  built with Apple clang version 14.0.3 (clang-1403.0.22.14.1)\n",
      "  configuration: --prefix=/opt/homebrew/Cellar/ffmpeg/6.0_1 --enable-shared --enable-pthreads --enable-version3 --cc=clang --host-cflags= --host-ldflags= --enable-ffplay --enable-gnutls --enable-gpl --enable-libaom --enable-libaribb24 --enable-libbluray --enable-libdav1d --enable-libmp3lame --enable-libopus --enable-librav1e --enable-librist --enable-librubberband --enable-libsnappy --enable-libsrt --enable-libsvtav1 --enable-libtesseract --enable-libtheora --enable-libvidstab --enable-libvmaf --enable-libvorbis --enable-libvpx --enable-libwebp --enable-libx264 --enable-libx265 --enable-libxml2 --enable-libxvid --enable-lzma --enable-libfontconfig --enable-libfreetype --enable-frei0r --enable-libass --enable-libopencore-amrnb --enable-libopencore-amrwb --enable-libopenjpeg --enable-libspeex --enable-libsoxr --enable-libzmq --enable-libzimg --disable-libjack --disable-indev=jack --enable-videotoolbox --enable-audiotoolbox --enable-neon\n",
      "  libavutil      58.  2.100 / 58.  2.100\n",
      "  libavcodec     60.  3.100 / 60.  3.100\n",
      "  libavformat    60.  3.100 / 60.  3.100\n",
      "  libavdevice    60.  1.100 / 60.  1.100\n",
      "  libavfilter     9.  3.100 /  9.  3.100\n",
      "  libswscale      7.  1.100 /  7.  1.100\n",
      "  libswresample   4. 10.100 /  4. 10.100\n",
      "  libpostproc    57.  1.100 / 57.  1.100\n",
      "Input #0, mov,mp4,m4a,3gp,3g2,mj2, from './videos/clouds.mp4':\n",
      "  Metadata:\n",
      "    major_brand     : isom\n",
      "    minor_version   : 512\n",
      "    compatible_brands: isomiso2avc1mp41\n",
      "    encoder         : Lavf58.29.100\n",
      "  Duration: 00:00:04.00, start: 0.000000, bitrate: 3124 kb/s\n",
      "  Stream #0:0[0x1](und): Video: h264 (High) (avc1 / 0x31637661), yuv420p(progressive), 1024x640, 3120 kb/s, 24 fps, 24 tbr, 12288 tbn (default)\n",
      "    Metadata:\n",
      "      handler_name    : VideoHandler\n",
      "      vendor_id       : [0][0][0][0]\n",
      "Stream mapping:\n",
      "  Stream #0:0 -> #0:0 (h264 (native) -> rawvideo (native))\n",
      "Press [q] to stop, [?] for help\n",
      "[swscaler @ 0x150108000] [swscaler @ 0x1303e8000] No accelerated colorspace conversion found from yuv420p to bgr24.\n",
      "[swscaler @ 0x150108000] [swscaler @ 0x120730000] No accelerated colorspace conversion found from yuv420p to bgr24.\n",
      "[swscaler @ 0x150108000] [swscaler @ 0x120740000] No accelerated colorspace conversion found from yuv420p to bgr24.\n",
      "[swscaler @ 0x150108000] [swscaler @ 0x120750000] No accelerated colorspace conversion found from yuv420p to bgr24.\n",
      "[swscaler @ 0x150108000] [swscaler @ 0x120760000] No accelerated colorspace conversion found from yuv420p to bgr24.\n",
      "[swscaler @ 0x150108000] [swscaler @ 0x120770000] No accelerated colorspace conversion found from yuv420p to bgr24.\n",
      "[swscaler @ 0x150108000] [swscaler @ 0x120780000] No accelerated colorspace conversion found from yuv420p to bgr24.\n",
      "[swscaler @ 0x150108000] [swscaler @ 0x120790000] No accelerated colorspace conversion found from yuv420p to bgr24.\n",
      "[swscaler @ 0x150108000] [swscaler @ 0x1207a0000] No accelerated colorspace conversion found from yuv420p to bgr24.\n",
      "Output #0, avi, to '/var/folders/7k/52l4j6s906q9s88m_c95kdkw0000gn/T/tmpj0n66f_1.avi':\n",
      "  Metadata:\n",
      "    major_brand     : isom\n",
      "    minor_version   : 512\n",
      "    compatible_brands: isomiso2avc1mp41\n",
      "    ISFT            : Lavf60.3.100\n",
      "  Stream #0:0(und): Video: rawvideo, bgr24(pc, gbr/unknown/unknown, progressive), 1024x640, q=2-31, 377487 kb/s, 24 fps, 24 tbn (default)\n",
      "    Metadata:\n",
      "      handler_name    : VideoHandler\n",
      "      vendor_id       : [0][0][0][0]\n",
      "      encoder         : Lavc60.3.100 rawvideo\n",
      "frame=   96 fps=0.0 q=-0.0 Lsize=  184328kB time=00:00:03.95 bitrate=381477.1kbits/s speed=16.8x    \n",
      "video:184320kB audio:0kB subtitle:0kB other streams:0kB global headers:0kB muxing overhead: 0.004233%\n"
     ]
    },
    {
     "name": "stdout",
     "output_type": "stream",
     "text": [
      "Component: 0 - 189\n",
      "Duration: 6.301798941798942\n"
     ]
    },
    {
     "name": "stderr",
     "output_type": "stream",
     "text": [
      "ffmpeg version 6.0 Copyright (c) 2000-2023 the FFmpeg developers\n",
      "  built with Apple clang version 14.0.3 (clang-1403.0.22.14.1)\n",
      "  configuration: --prefix=/opt/homebrew/Cellar/ffmpeg/6.0_1 --enable-shared --enable-pthreads --enable-version3 --cc=clang --host-cflags= --host-ldflags= --enable-ffplay --enable-gnutls --enable-gpl --enable-libaom --enable-libaribb24 --enable-libbluray --enable-libdav1d --enable-libmp3lame --enable-libopus --enable-librav1e --enable-librist --enable-librubberband --enable-libsnappy --enable-libsrt --enable-libsvtav1 --enable-libtesseract --enable-libtheora --enable-libvidstab --enable-libvmaf --enable-libvorbis --enable-libvpx --enable-libwebp --enable-libx264 --enable-libx265 --enable-libxml2 --enable-libxvid --enable-lzma --enable-libfontconfig --enable-libfreetype --enable-frei0r --enable-libass --enable-libopencore-amrnb --enable-libopencore-amrwb --enable-libopenjpeg --enable-libspeex --enable-libsoxr --enable-libzmq --enable-libzimg --disable-libjack --disable-indev=jack --enable-videotoolbox --enable-audiotoolbox --enable-neon\n",
      "  libavutil      58.  2.100 / 58.  2.100\n",
      "  libavcodec     60.  3.100 / 60.  3.100\n",
      "  libavformat    60.  3.100 / 60.  3.100\n",
      "  libavdevice    60.  1.100 / 60.  1.100\n",
      "  libavfilter     9.  3.100 /  9.  3.100\n",
      "  libswscale      7.  1.100 /  7.  1.100\n",
      "  libswresample   4. 10.100 /  4. 10.100\n",
      "  libpostproc    57.  1.100 / 57.  1.100\n",
      "Input #0, mov,mp4,m4a,3gp,3g2,mj2, from './videos/cabin.mp4':\n",
      "  Metadata:\n",
      "    major_brand     : isom\n",
      "    minor_version   : 512\n",
      "    compatible_brands: isomiso2avc1mp41\n",
      "    encoder         : Lavf58.29.100\n",
      "  Duration: 00:00:04.00, start: 0.000000, bitrate: 5055 kb/s\n",
      "  Stream #0:0[0x1](und): Video: h264 (High) (avc1 / 0x31637661), yuv420p(progressive), 640x1024, 5051 kb/s, 24 fps, 24 tbr, 12288 tbn (default)\n",
      "    Metadata:\n",
      "      handler_name    : VideoHandler\n",
      "      vendor_id       : [0][0][0][0]\n",
      "Stream mapping:\n",
      "  Stream #0:0 -> #0:0 (h264 (native) -> rawvideo (native))\n",
      "Press [q] to stop, [?] for help\n",
      "[swscaler @ 0x1400b0000] [swscaler @ 0x1281e8000] No accelerated colorspace conversion found from yuv420p to bgr24.\n",
      "[swscaler @ 0x1400b0000] [swscaler @ 0x1281f8000] No accelerated colorspace conversion found from yuv420p to bgr24.\n",
      "[swscaler @ 0x1400b0000] [swscaler @ 0x128208000] No accelerated colorspace conversion found from yuv420p to bgr24.\n",
      "[swscaler @ 0x1400b0000] [swscaler @ 0x128218000] No accelerated colorspace conversion found from yuv420p to bgr24.\n",
      "[swscaler @ 0x1400b0000] [swscaler @ 0x128228000] No accelerated colorspace conversion found from yuv420p to bgr24.\n",
      "[swscaler @ 0x1400b0000] [swscaler @ 0x128238000] No accelerated colorspace conversion found from yuv420p to bgr24.\n",
      "[swscaler @ 0x1400b0000] [swscaler @ 0x128248000] No accelerated colorspace conversion found from yuv420p to bgr24.\n",
      "[swscaler @ 0x1400b0000] [swscaler @ 0x128258000] No accelerated colorspace conversion found from yuv420p to bgr24.\n",
      "[swscaler @ 0x1400b0000] [swscaler @ 0x160180000] No accelerated colorspace conversion found from yuv420p to bgr24.\n",
      "Output #0, avi, to '/var/folders/7k/52l4j6s906q9s88m_c95kdkw0000gn/T/tmp4_rq7ui5.avi':\n",
      "  Metadata:\n",
      "    major_brand     : isom\n",
      "    minor_version   : 512\n",
      "    compatible_brands: isomiso2avc1mp41\n",
      "    ISFT            : Lavf60.3.100\n",
      "  Stream #0:0(und): Video: rawvideo, bgr24(pc, gbr/unknown/unknown, progressive), 640x1024, q=2-31, 377487 kb/s, 24 fps, 24 tbn (default)\n",
      "    Metadata:\n",
      "      handler_name    : VideoHandler\n",
      "      vendor_id       : [0][0][0][0]\n",
      "      encoder         : Lavc60.3.100 rawvideo\n",
      "frame=   96 fps=0.0 q=-0.0 Lsize=  184328kB time=00:00:03.95 bitrate=381477.1kbits/s speed=15.3x    \n",
      "video:184320kB audio:0kB subtitle:0kB other streams:0kB global headers:0kB muxing overhead: 0.004233%\n"
     ]
    },
    {
     "name": "stdout",
     "output_type": "stream",
     "text": [
      "Component: 189 - 472\n",
      "Duration: 9.452698412698412\n"
     ]
    },
    {
     "name": "stderr",
     "output_type": "stream",
     "text": [
      "ffmpeg version 6.0 Copyright (c) 2000-2023 the FFmpeg developers\n",
      "  built with Apple clang version 14.0.3 (clang-1403.0.22.14.1)\n",
      "  configuration: --prefix=/opt/homebrew/Cellar/ffmpeg/6.0_1 --enable-shared --enable-pthreads --enable-version3 --cc=clang --host-cflags= --host-ldflags= --enable-ffplay --enable-gnutls --enable-gpl --enable-libaom --enable-libaribb24 --enable-libbluray --enable-libdav1d --enable-libmp3lame --enable-libopus --enable-librav1e --enable-librist --enable-librubberband --enable-libsnappy --enable-libsrt --enable-libsvtav1 --enable-libtesseract --enable-libtheora --enable-libvidstab --enable-libvmaf --enable-libvorbis --enable-libvpx --enable-libwebp --enable-libx264 --enable-libx265 --enable-libxml2 --enable-libxvid --enable-lzma --enable-libfontconfig --enable-libfreetype --enable-frei0r --enable-libass --enable-libopencore-amrnb --enable-libopencore-amrwb --enable-libopenjpeg --enable-libspeex --enable-libsoxr --enable-libzmq --enable-libzimg --disable-libjack --disable-indev=jack --enable-videotoolbox --enable-audiotoolbox --enable-neon\n",
      "  libavutil      58.  2.100 / 58.  2.100\n",
      "  libavcodec     60.  3.100 / 60.  3.100\n",
      "  libavformat    60.  3.100 / 60.  3.100\n",
      "  libavdevice    60.  1.100 / 60.  1.100\n",
      "  libavfilter     9.  3.100 /  9.  3.100\n",
      "  libswscale      7.  1.100 /  7.  1.100\n",
      "  libswresample   4. 10.100 /  4. 10.100\n",
      "  libpostproc    57.  1.100 / 57.  1.100\n",
      "Input #0, mov,mp4,m4a,3gp,3g2,mj2, from './videos/nature.mp4':\n",
      "  Metadata:\n",
      "    major_brand     : isom\n",
      "    minor_version   : 512\n",
      "    compatible_brands: isomiso2avc1mp41\n",
      "    encoder         : Lavf58.29.100\n",
      "  Duration: 00:00:04.00, start: 0.000000, bitrate: 14189 kb/s\n",
      "  Stream #0:0[0x1](und): Video: h264 (High) (avc1 / 0x31637661), yuv420p(progressive), 640x896, 14185 kb/s, 24 fps, 24 tbr, 12288 tbn (default)\n",
      "    Metadata:\n",
      "      handler_name    : VideoHandler\n",
      "      vendor_id       : [0][0][0][0]\n",
      "Stream mapping:\n",
      "  Stream #0:0 -> #0:0 (h264 (native) -> rawvideo (native))\n",
      "Press [q] to stop, [?] for help\n",
      "[swscaler @ 0x110410000] [swscaler @ 0x138108000] No accelerated colorspace conversion found from yuv420p to bgr24.\n",
      "[swscaler @ 0x110410000] [swscaler @ 0x1380e8000] No accelerated colorspace conversion found from yuv420p to bgr24.\n",
      "[swscaler @ 0x110410000] [swscaler @ 0x1380f8000] No accelerated colorspace conversion found from yuv420p to bgr24.\n",
      "[swscaler @ 0x110410000] [swscaler @ 0x120508000] No accelerated colorspace conversion found from yuv420p to bgr24.\n",
      "[swscaler @ 0x110410000] [swscaler @ 0x120518000] No accelerated colorspace conversion found from yuv420p to bgr24.\n",
      "[swscaler @ 0x110410000] [swscaler @ 0x120528000] No accelerated colorspace conversion found from yuv420p to bgr24.\n",
      "[swscaler @ 0x110410000] [swscaler @ 0x120538000] No accelerated colorspace conversion found from yuv420p to bgr24.\n",
      "[swscaler @ 0x110410000] [swscaler @ 0x120548000] No accelerated colorspace conversion found from yuv420p to bgr24.\n",
      "[swscaler @ 0x110410000] [swscaler @ 0x120558000] No accelerated colorspace conversion found from yuv420p to bgr24.\n",
      "Output #0, avi, to '/var/folders/7k/52l4j6s906q9s88m_c95kdkw0000gn/T/tmpx9ajjyue.avi':\n",
      "  Metadata:\n",
      "    major_brand     : isom\n",
      "    minor_version   : 512\n",
      "    compatible_brands: isomiso2avc1mp41\n",
      "    ISFT            : Lavf60.3.100\n",
      "  Stream #0:0(und): Video: rawvideo, bgr24(pc, gbr/unknown/unknown, progressive), 640x896, q=2-31, 330301 kb/s, 24 fps, 24 tbn (default)\n",
      "    Metadata:\n",
      "      handler_name    : VideoHandler\n",
      "      vendor_id       : [0][0][0][0]\n",
      "      encoder         : Lavc60.3.100 rawvideo\n",
      "frame=   96 fps=0.0 q=-0.0 Lsize=  161288kB time=00:00:03.95 bitrate=333794.5kbits/s speed=10.2x    \n",
      "video:161280kB audio:0kB subtitle:0kB other streams:0kB global headers:0kB muxing overhead: 0.004838%\n"
     ]
    },
    {
     "name": "stdout",
     "output_type": "stream",
     "text": [
      "Component: 472 - 566\n",
      "Duration: 3.150899470899471\n"
     ]
    }
   ],
   "source": [
    "clouds = './videos/clouds.mp4'\n",
    "cabin = './videos/cabin.mp4'\n",
    "nature = './videos/nature.mp4'\n",
    "\n",
    "images = [(clouds, 1/3), (cabin, 1/2), (nature, 1/6)]\n",
    "\n",
    "\n",
    "output_file = \"output/bible.mp4\"\n",
    "\n",
    "tts = TTSComponent(verse + \" \" + location, color=(200, 10, 0), height=1024, width=1024)\n",
    "\n",
    "third = tts.total_duration()/3\n",
    "half = tts.total_duration()/2\n",
    "sixth = tts.total_duration()/6\n",
    "\n",
    "mp4 = LoopingMP4(clouds, fps=30, start=0, duration=third, reverse_loop=True, speed_factor=1)\n",
    "mp4a = LoopingMP4(cabin, fps=30, start=third, duration=half, reverse_loop=True, speed_factor=0.5)\n",
    "mp4b = LoopingMP4(nature, fps=30, start=sixth*5, duration=sixth, reverse_loop=True, speed_factor=2)\n",
    "\n",
    "video_composition = VideoComposition(width=mp4.width, height=mp4.height, fps=mp4.fps)\n",
    "video_composition.add_component(mp4)\n",
    "video_composition.add_component(mp4a)\n",
    "video_composition.add_component(mp4b)\n",
    "\n",
    "video_composition.add_component(tts)\n",
    "\n",
    "video_composition.create_video(output_file)\n"
   ]
  },
  {
   "cell_type": "code",
   "execution_count": 2,
   "metadata": {},
   "outputs": [
    {
     "ename": "NameError",
     "evalue": "name 'verse' is not defined",
     "output_type": "error",
     "traceback": [
      "\u001b[0;31m---------------------------------------------------------------------------\u001b[0m",
      "\u001b[0;31mNameError\u001b[0m                                 Traceback (most recent call last)",
      "Cell \u001b[0;32mIn[2], line 30\u001b[0m\n\u001b[1;32m     26\u001b[0m \u001b[38;5;66;03m# verse = \"Some verse\"\u001b[39;00m\n\u001b[1;32m     27\u001b[0m \u001b[38;5;66;03m# location = \"Some location\"\u001b[39;00m\n\u001b[1;32m     28\u001b[0m output_file \u001b[38;5;241m=\u001b[39m \u001b[38;5;124m\"\u001b[39m\u001b[38;5;124moutput/bible.mp4\u001b[39m\u001b[38;5;124m\"\u001b[39m\n\u001b[0;32m---> 30\u001b[0m create_composition(images, \u001b[43mverse\u001b[49m, location, output_file)\n",
      "\u001b[0;31mNameError\u001b[0m: name 'verse' is not defined"
     ]
    }
   ],
   "source": [
    "def create_composition(images, verse, location, output_path):\n",
    "    height = 1920\n",
    "    width = 1080\n",
    "    fps = 30\n",
    "    tts_component = TTSComponent(verse + \" \" + location, color=(200, 10, 0), height=height, width=width, fps=fps)\n",
    "\n",
    "    total_duration = tts_component.total_duration()\n",
    "    \n",
    "    video_composition = VideoComposition(width=width, height=height, fps=fps)\n",
    "    \n",
    "    current_start_time = 0\n",
    "    \n",
    "    for image, fraction, speed, loop in images:\n",
    "        duration = total_duration * fraction\n",
    "        mp4_component = LoopingMP4(image, fps=30, start=current_start_time, duration=duration, reverse_loop=loop, speed_factor=speed)\n",
    "        \n",
    "        video_composition.add_component(mp4_component)\n",
    "        current_start_time += duration\n",
    "\n",
    "    video_composition.add_component(tts_component)\n",
    "\n",
    "    video_composition.create_video(output_path)\n",
    "\n",
    "# Loop, restart, or stretch the video to match the duration of the tts\n",
    "images = [('./videos/clouds.mp4', 1/3, 2, True), ('./videos/cabin.mp4', 1/6, 3, False), ('./videos/nature.mp4', 1/2, 4, True)]\n",
    "# verse = \"Some verse\"\n",
    "# location = \"Some location\"\n",
    "output_file = \"output/bible.mp4\"\n",
    "\n",
    "create_composition(images, verse, location, output_file)\n",
    "\n"
   ]
  },
  {
   "cell_type": "code",
   "execution_count": 5,
   "metadata": {},
   "outputs": [
    {
     "ename": "NameError",
     "evalue": "name 'verse' is not defined",
     "output_type": "error",
     "traceback": [
      "\u001b[0;31m---------------------------------------------------------------------------\u001b[0m",
      "\u001b[0;31mNameError\u001b[0m                                 Traceback (most recent call last)",
      "Cell \u001b[0;32mIn[5], line 33\u001b[0m\n\u001b[1;32m     29\u001b[0m \u001b[38;5;66;03m# verse = \"Some verse\"\u001b[39;00m\n\u001b[1;32m     30\u001b[0m \u001b[38;5;66;03m# location = \"Some location\"\u001b[39;00m\n\u001b[1;32m     31\u001b[0m output_file \u001b[38;5;241m=\u001b[39m \u001b[38;5;124m\"\u001b[39m\u001b[38;5;124moutput/bible.mp4\u001b[39m\u001b[38;5;124m\"\u001b[39m\n\u001b[0;32m---> 33\u001b[0m create_composition(images, \u001b[43mverse\u001b[49m, location, output_file)\n",
      "\u001b[0;31mNameError\u001b[0m: name 'verse' is not defined"
     ]
    }
   ],
   "source": [
    "def match_duration_with_tts(input_video, verse, location, output_path):\n",
    "    height = 1920\n",
    "    width = 1080\n",
    "    fps = 30\n",
    "    \n",
    "    tts_component = TTSComponent(verse + \" \" + location, color=(200, 10, 0),)\n",
    "    tts_duration = tts_component.total_duration()\n",
    "\n",
    "    # Create a temporary LoopingMP4 component to get the original video duration\n",
    "    temp_mp4 = LoopingMP4(input_video, fps=30, start=0, duration=tts_duration, reverse_loop=False)\n",
    "    video_duration = temp_mp4.total_duration()\n",
    "\n",
    "    # Calculate speed factor\n",
    "    speed_factor = video_duration / tts_duration\n",
    "\n",
    "    # Initialize VideoComposition\n",
    "    video_composition = VideoComposition(width=tts_component.width, height=tts_component.height, fps=tts_component.fps)\n",
    "    video_composition.add_component(tts_component)\n",
    "\n",
    "    # Create MP4 component with speed adjusted to match TTS duration\n",
    "    mp4_component = LoopingMP4(input_video, fps=30, start=0, duration=tts_duration, reverse_loop=False, speed_factor=speed_factor)\n",
    "    \n",
    "    video_composition.add_component(mp4_component)\n",
    "\n",
    "    video_composition.create_video(output_path)\n",
    "    \n",
    "# Loop, restart, or stretch the video to match the duration of the tts\n",
    "images = [('./videos/clouds.mp4', 1/3, 2, True), ('./videos/cabin.mp4', 1/6, 3, False), ('./videos/nature.mp4', 1/2, 4, True)]\n",
    "# verse = \"Some verse\"\n",
    "# location = \"Some location\"\n",
    "output_file = \"output/bible.mp4\"\n",
    "\n",
    "create_composition(images, verse, location, output_file)\n"
   ]
  },
  {
   "cell_type": "code",
   "execution_count": 3,
   "metadata": {},
   "outputs": [
    {
     "ename": "ModuleNotFoundError",
     "evalue": "No module named 'src'",
     "output_type": "error",
     "traceback": [
      "\u001b[0;31m---------------------------------------------------------------------------\u001b[0m",
      "\u001b[0;31mModuleNotFoundError\u001b[0m                       Traceback (most recent call last)",
      "Cell \u001b[0;32mIn[3], line 1\u001b[0m\n\u001b[0;32m----> 1\u001b[0m \u001b[38;5;28;01mfrom\u001b[39;00m \u001b[38;5;21;01msrc\u001b[39;00m\u001b[38;5;21;01m.\u001b[39;00m\u001b[38;5;21;01mvideo_composition\u001b[39;00m\u001b[38;5;21;01m.\u001b[39;00m\u001b[38;5;21;01mvideo\u001b[39;00m\u001b[38;5;21;01m.\u001b[39;00m\u001b[38;5;21;01mtimed_text_component\u001b[39;00m \u001b[38;5;28;01mimport\u001b[39;00m TimedTextComponent\n\u001b[1;32m      2\u001b[0m \u001b[38;5;28;01mfrom\u001b[39;00m \u001b[38;5;21;01msrc\u001b[39;00m\u001b[38;5;21;01m.\u001b[39;00m\u001b[38;5;21;01mvideo_composition\u001b[39;00m\u001b[38;5;21;01m.\u001b[39;00m\u001b[38;5;21;01mcomposer\u001b[39;00m \u001b[38;5;28;01mimport\u001b[39;00m VideoComposition\n\u001b[1;32m      4\u001b[0m words \u001b[38;5;241m=\u001b[39m [\u001b[38;5;124m'\u001b[39m\u001b[38;5;124mShould\u001b[39m\u001b[38;5;124m'\u001b[39m, \u001b[38;5;124m'\u001b[39m\u001b[38;5;124myou\u001b[39m\u001b[38;5;124m'\u001b[39m, \u001b[38;5;124m'\u001b[39m\u001b[38;5;124mnot\u001b[39m\u001b[38;5;124m'\u001b[39m, \u001b[38;5;124m'\u001b[39m\u001b[38;5;124mfear\u001b[39m\u001b[38;5;124m'\u001b[39m, \u001b[38;5;124m'\u001b[39m\u001b[38;5;124mme?\u001b[39m\u001b[38;5;124m'\u001b[39m, \u001b[38;5;124m'\u001b[39m\u001b[38;5;124mdeclares\u001b[39m\u001b[38;5;124m'\u001b[39m, \u001b[38;5;124m'\u001b[39m\u001b[38;5;124mthe\u001b[39m\u001b[38;5;124m'\u001b[39m, \u001b[38;5;124m'\u001b[39m\u001b[38;5;124mLord.\u001b[39m\u001b[38;5;124m'\u001b[39m, \u001b[38;5;124m'\u001b[39m\u001b[38;5;124mShould\u001b[39m\u001b[38;5;124m'\u001b[39m, \u001b[38;5;124m'\u001b[39m\u001b[38;5;124myou\u001b[39m\u001b[38;5;124m'\u001b[39m, \u001b[38;5;124m'\u001b[39m\u001b[38;5;124mnot\u001b[39m\u001b[38;5;124m'\u001b[39m, \u001b[38;5;124m'\u001b[39m\u001b[38;5;124mtremble\u001b[39m\u001b[38;5;124m'\u001b[39m, \u001b[38;5;124m'\u001b[39m\u001b[38;5;124min\u001b[39m\u001b[38;5;124m'\u001b[39m, \u001b[38;5;124m'\u001b[39m\u001b[38;5;124mmy\u001b[39m\u001b[38;5;124m'\u001b[39m, \u001b[38;5;124m'\u001b[39m\u001b[38;5;124mpresence?\u001b[39m\u001b[38;5;124m'\u001b[39m, \u001b[38;5;124m'\u001b[39m\u001b[38;5;124mI\u001b[39m\u001b[38;5;124m'\u001b[39m, \u001b[38;5;124m'\u001b[39m\u001b[38;5;124mmade\u001b[39m\u001b[38;5;124m'\u001b[39m, \u001b[38;5;124m'\u001b[39m\u001b[38;5;124mthe\u001b[39m\u001b[38;5;124m'\u001b[39m, \u001b[38;5;124m'\u001b[39m\u001b[38;5;124msand\u001b[39m\u001b[38;5;124m'\u001b[39m, \u001b[38;5;124m'\u001b[39m\u001b[38;5;124ma\u001b[39m\u001b[38;5;124m'\u001b[39m, \u001b[38;5;124m'\u001b[39m\u001b[38;5;124mboundary\u001b[39m\u001b[38;5;124m'\u001b[39m, \u001b[38;5;124m'\u001b[39m\u001b[38;5;124mfor the\u001b[39m\u001b[38;5;124m'\u001b[39m, \u001b[38;5;124m'\u001b[39m\u001b[38;5;124msea,\u001b[39m\u001b[38;5;124m'\u001b[39m, \u001b[38;5;124m'\u001b[39m\u001b[38;5;124man\u001b[39m\u001b[38;5;124m'\u001b[39m, \u001b[38;5;124m'\u001b[39m\u001b[38;5;124meverlasting\u001b[39m\u001b[38;5;124m'\u001b[39m, \u001b[38;5;124m'\u001b[39m\u001b[38;5;124mbarrier\u001b[39m\u001b[38;5;124m'\u001b[39m, \u001b[38;5;124m'\u001b[39m\u001b[38;5;124mit\u001b[39m\u001b[38;5;124m'\u001b[39m, \u001b[38;5;124m'\u001b[39m\u001b[38;5;124mcannot\u001b[39m\u001b[38;5;124m'\u001b[39m, \u001b[38;5;124m'\u001b[39m\u001b[38;5;124mcross.\u001b[39m\u001b[38;5;124m'\u001b[39m, \u001b[38;5;124m'\u001b[39m\u001b[38;5;124mThe\u001b[39m\u001b[38;5;124m'\u001b[39m, \u001b[38;5;124m'\u001b[39m\u001b[38;5;124mwaves\u001b[39m\u001b[38;5;124m'\u001b[39m, \u001b[38;5;124m'\u001b[39m\u001b[38;5;124mmay\u001b[39m\u001b[38;5;124m'\u001b[39m, \u001b[38;5;124m'\u001b[39m\u001b[38;5;124mroll,\u001b[39m\u001b[38;5;124m'\u001b[39m, \u001b[38;5;124m'\u001b[39m\u001b[38;5;124mbut\u001b[39m\u001b[38;5;124m'\u001b[39m, \u001b[38;5;124m'\u001b[39m\u001b[38;5;124mthey\u001b[39m\u001b[38;5;124m'\u001b[39m, \u001b[38;5;124m'\u001b[39m\u001b[38;5;124mcannot\u001b[39m\u001b[38;5;124m'\u001b[39m, \u001b[38;5;124m'\u001b[39m\u001b[38;5;124mprevail;\u001b[39m\u001b[38;5;124m'\u001b[39m, \u001b[38;5;124m'\u001b[39m\u001b[38;5;124mthey\u001b[39m\u001b[38;5;124m'\u001b[39m, \u001b[38;5;124m'\u001b[39m\u001b[38;5;124mmay\u001b[39m\u001b[38;5;124m'\u001b[39m, \u001b[38;5;124m'\u001b[39m\u001b[38;5;124mroar,\u001b[39m\u001b[38;5;124m'\u001b[39m, \u001b[38;5;124m'\u001b[39m\u001b[38;5;124mbut\u001b[39m\u001b[38;5;124m'\u001b[39m, \u001b[38;5;124m'\u001b[39m\u001b[38;5;124mthey\u001b[39m\u001b[38;5;124m'\u001b[39m, \u001b[38;5;124m'\u001b[39m\u001b[38;5;124mcannot\u001b[39m\u001b[38;5;124m'\u001b[39m, \u001b[38;5;124m'\u001b[39m\u001b[38;5;124mcross\u001b[39m\u001b[38;5;124m'\u001b[39m, \u001b[38;5;124m'\u001b[39m\u001b[38;5;124mit.\u001b[39m\u001b[38;5;124m'\u001b[39m, \u001b[38;5;124m'\u001b[39m\u001b[38;5;124mJeremiah\u001b[39m\u001b[38;5;124m'\u001b[39m, \u001b[38;5;124m'\u001b[39m\u001b[38;5;124m5:22\u001b[39m\u001b[38;5;124m'\u001b[39m]\n",
      "\u001b[0;31mModuleNotFoundError\u001b[0m: No module named 'src'"
     ]
    }
   ],
   "source": [
    "import sys\n",
    "sys.path.append('../') # so that we can import packages from parent folder\n",
    "from src.video_composition.video.timed_text_component import TimedTextComponent\n",
    "from src.video_composition.composer import VideoComposition\n",
    "\n",
    "words = ['Should', 'you', 'not', 'fear', 'me?', 'declares', 'the', 'Lord.', 'Should', 'you', 'not', 'tremble', 'in', 'my', 'presence?', 'I', 'made', 'the', 'sand', 'a', 'boundary', 'for the', 'sea,', 'an', 'everlasting', 'barrier', 'it', 'cannot', 'cross.', 'The', 'waves', 'may', 'roll,', 'but', 'they', 'cannot', 'prevail;', 'they', 'may', 'roar,', 'but', 'they', 'cannot', 'cross', 'it.', 'Jeremiah', '5:22']\n",
    "\n",
    "timestamps = [0.03488372093023256, 0.26744186046511625, 0.36046511627906974, 0.5813953488372093, 0.813953488372093, 1.7771238728049361, 2.346891314665401, 2.498054105363076, 3.6121900543163004, 3.83312028687444, 3.9493993566418815, 4.205213310130254, 4.623817961293044, 4.774980751990719, 4.937771449665138, 6.364516163054369, 6.480795232821811, 6.70172546537995, 6.806376628170648, 7.097074302589252, 7.1552138374729735, 7.7133533723566945, 8.015678953752044, 8.504051046775299, 8.608702209565998, 9.329632442124137, 9.748237093286928, 9.84126034910088, 10.166841744449718, 11.415546063386595, 11.531825133154037, 11.869034435479618, 12.113220481991247, 12.56670885408427, 12.776011179665666, 12.892290249433108, 13.345778621526131, 13.915546063386596, 14.089964668037759, 14.334150714549386, 14.694615830828456, 14.892290249433108, 15.078336761061014, 15.473685598270317, 15.834150714549386, 16.69886515846649, 17.175609344513, 18.175609344513]\n",
    "\n",
    "duration = 19.06793650793651\n",
    "\n",
    "height = 1920\n",
    "width = 1080\n",
    "fps = 30\n",
    "\n",
    "ttc = TimedTextComponent(words, timestamps, start_time=0, duration=duration, width=width, height=height, fps=fps)\n",
    "\n",
    "video_composition = VideoComposition(width=ttc.width, height=ttc.height, fps=ttc.fps)\n",
    "video_composition.add_component(ttc)\n",
    "\n",
    "video_composition.create_video('output.mp4')\n"
   ]
  }
 ],
 "metadata": {
  "kernelspec": {
   "display_name": "Python 3 (ipykernel)",
   "language": "python",
   "name": "python3"
  },
  "language_info": {
   "codemirror_mode": {
    "name": "ipython",
    "version": 3
   },
   "file_extension": ".py",
   "mimetype": "text/x-python",
   "name": "python",
   "nbconvert_exporter": "python",
   "pygments_lexer": "ipython3",
   "version": "3.11.4"
  }
 },
 "nbformat": 4,
 "nbformat_minor": 4
}
